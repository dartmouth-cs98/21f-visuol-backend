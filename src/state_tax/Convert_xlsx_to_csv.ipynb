{
 "cells": [
  {
   "cell_type": "code",
   "execution_count": 1,
   "metadata": {},
   "outputs": [],
   "source": [
    "import pandas as pd"
   ]
  },
  {
   "cell_type": "code",
   "execution_count": 2,
   "metadata": {},
   "outputs": [],
   "source": [
    "df = pd.read_excel('state_tax.xlsx', engine='openpyxl')"
   ]
  },
  {
   "cell_type": "code",
   "execution_count": 3,
   "metadata": {},
   "outputs": [],
   "source": [
    "df = df[['State', 'Rates', 'Brackets', 'Rates.1', 'Brackets.1']]"
   ]
  },
  {
   "cell_type": "code",
   "execution_count": 4,
   "metadata": {},
   "outputs": [],
   "source": [
    "df = df.dropna() "
   ]
  },
  {
   "cell_type": "code",
   "execution_count": 5,
   "metadata": {},
   "outputs": [
    {
     "name": "stdout",
     "output_type": "stream",
     "text": [
      "               State  Single Rate  Single Bracket  Married Rate  \\\n",
      "0            Alabama       0.0200             0.0        0.0200   \n",
      "1            Alabama       0.0400           500.0        0.0400   \n",
      "2            Alabama       0.0500          3000.0        0.0500   \n",
      "5            Arizona       0.0259             0.0        0.0259   \n",
      "6            Arizona       0.0334         27272.0        0.0334   \n",
      "..               ...          ...             ...           ...   \n",
      "240  Washington D.C.       0.0600         10000.0        0.0600   \n",
      "241  Washington D.C.       0.0650         40000.0        0.0650   \n",
      "242  Washington D.C.       0.0850         60000.0        0.0850   \n",
      "243  Washington D.C.       0.0875        350000.0        0.0875   \n",
      "244  Washington D.C.       0.0895       1000000.0        0.0895   \n",
      "\n",
      "     Married Bracket  \n",
      "0                0.0  \n",
      "1             1000.0  \n",
      "2             6000.0  \n",
      "5                0.0  \n",
      "6            54544.0  \n",
      "..               ...  \n",
      "240          10000.0  \n",
      "241          40000.0  \n",
      "242          60000.0  \n",
      "243         350000.0  \n",
      "244        1000000.0  \n",
      "\n",
      "[189 rows x 5 columns]\n"
     ]
    }
   ],
   "source": [
    "df = df.set_axis(['State', 'Single Rate', 'Single Bracket', 'Married Rate', 'Married Bracket'], axis=1, inplace=False)\n",
    "print(df)"
   ]
  },
  {
   "cell_type": "code",
   "execution_count": 6,
   "metadata": {},
   "outputs": [],
   "source": [
    "df.to_csv('state_taxes')"
   ]
  },
  {
   "cell_type": "markdown",
   "metadata": {},
   "source": [
    "# State tax data function"
   ]
  },
  {
   "cell_type": "code",
   "execution_count": 37,
   "metadata": {},
   "outputs": [],
   "source": [
    "def state_tax(state, income, married):\n",
    "    df = pd.read_csv('state_taxes')\n",
    "    df2 = df[df['State'] == state]\n",
    "    remaining_income = 0\n",
    "    if(married):\n",
    "        for i in reversed(range(len(df2))):\n",
    "            if(income > df2.iloc[i]['Married Bracket'] / 2):\n",
    "                        if(i == len(df2) - 1):\n",
    "                            remaining_income += (income - df2.iloc[i]['Married Bracket'] / 2) * (1 - df2.iloc[i]['Married Rate'])\n",
    "                        else:\n",
    "                            remaining_income += ((min(income, df2.iloc[i + 1]['Married Bracket'] / 2) - df2.iloc[i]['Married Bracket'] / 2)  * (1 - df2.iloc[i]['Married Rate']))\n",
    "    else:\n",
    "        for i in reversed(range(len(df2))):\n",
    "            if(income > df2.iloc[i]['Single Bracket']):\n",
    "                        if(i == len(df2) - 1):\n",
    "                            remaining_income += (income - df2.iloc[i]['Single Bracket']) * (1 - df2.iloc[i]['Single Rate'])\n",
    "                        else:\n",
    "                            remaining_income += ((min(income, df2.iloc[i + 1]['Single Bracket']) - df2.iloc[i]['Single Bracket'])  * (1 - df2.iloc[i]['Single Rate']))\n",
    "    return remaining_income"
   ]
  },
  {
   "cell_type": "code",
   "execution_count": 39,
   "metadata": {},
   "outputs": [
    {
     "name": "stdout",
     "output_type": "stream",
     "text": [
      "93100.0\n"
     ]
    }
   ],
   "source": [
    "print(state_tax('Washington D.C.', 100000, False))"
   ]
  },
  {
   "cell_type": "code",
   "execution_count": null,
   "metadata": {},
   "outputs": [],
   "source": []
  }
 ],
 "metadata": {
  "kernelspec": {
   "display_name": "Python 3.8.0 64-bit",
   "language": "python",
   "name": "python38064bit8f08be2185164d9c81073ff6db7abb8f"
  },
  "language_info": {
   "codemirror_mode": {
    "name": "ipython",
    "version": 3
   },
   "file_extension": ".py",
   "mimetype": "text/x-python",
   "name": "python",
   "nbconvert_exporter": "python",
   "pygments_lexer": "ipython3",
   "version": "3.8.0"
  }
 },
 "nbformat": 4,
 "nbformat_minor": 4
}
